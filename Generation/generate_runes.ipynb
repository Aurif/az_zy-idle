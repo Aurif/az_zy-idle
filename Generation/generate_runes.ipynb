{
 "cells": [
  {
   "cell_type": "code",
   "execution_count": 47,
   "metadata": {},
   "outputs": [],
   "source": [
    "from pydantic import BaseModel\n",
    "from openai import OpenAI\n",
    "from IPython.display import display, Markdown\n",
    "import json\n",
    "import uuid\n",
    "import os\n",
    "import base64\n",
    "\n",
    "from secret_vars import OPENAI_KEY\n",
    "\n",
    "client = OpenAI(api_key=OPENAI_KEY)"
   ]
  },
  {
   "cell_type": "code",
   "execution_count": 49,
   "metadata": {},
   "outputs": [],
   "source": [
    "DISPLAY_SPOILERS = True\n",
    "GENERATE_THEMES_COUNT = 3\n",
    "GENERATE_RUNES_COUNT = 20\n",
    "COMFYUI_PATH = \"D:\\AI\\Flux\\ComfyUI\""
   ]
  },
  {
   "cell_type": "markdown",
   "metadata": {},
   "source": [
    "## Theme generation"
   ]
  },
  {
   "cell_type": "code",
   "execution_count": 14,
   "metadata": {},
   "outputs": [
    {
     "data": {
      "text/markdown": [
       "## Elemental Forces\n",
       "Each rune represents a different elemental force associated with mundane tasks, such as 'Earth' for grounding or stability in cleaning, 'Water' for washing, and 'Fire' for energy and transformation of items.\n",
       "## Nature's Cycle\n",
       "Runes embody stages in nature, representing cycles like growth (planting seeds as a metaphor for beginning a task), decay (throwing out trash), and renewal (cleaning and organizing spaces).\n",
       "## Celestial Motions\n",
       "Runes model celestial events or bodies, where each task aligns with cosmic elements—like 'Sun' for illumination (finding motivation), 'Moon' for reflection (organizing thoughts), and 'Stars' for aspirations (setting goals for a clean space)."
      ],
      "text/plain": [
       "<IPython.core.display.Markdown object>"
      ]
     },
     "metadata": {},
     "output_type": "display_data"
    }
   ],
   "source": [
    "class RuneTheme(BaseModel):\n",
    "    name: str\n",
    "    description: str\n",
    "\n",
    "class RuneThemes(BaseModel):\n",
    "    ideas: list[RuneTheme]\n",
    "\n",
    "def generate_themes() -> RuneThemes:\n",
    "    completion = client.beta.chat.completions.parse(\n",
    "        model=\"gpt-4o-mini\",\n",
    "        messages=[\n",
    "            {\"role\": \"system\", \"content\": f\"I'm making a game in which mundane tasks (such as throwing out trash or doing dishes) can be separated each into multiple runes. What overarching theme can I use for coming up with those runes? Reply with a list of {GENERATE_THEMES_COUNT} propositions.\"},\n",
    "        ],\n",
    "        response_format=RuneThemes,\n",
    "    )\n",
    "    return completion.choices[0].message.parsed\n",
    "\n",
    "def display_themes(themes: RuneThemes):\n",
    "    if not DISPLAY_SPOILERS:\n",
    "        return\n",
    "    display(Markdown(\"\\n\".join(f\"## {theme.name}\\n{theme.description}\" for theme in themes.ideas)))\n",
    "\n",
    "themes = generate_themes()\n",
    "display_themes(themes)"
   ]
  },
  {
   "cell_type": "markdown",
   "metadata": {},
   "source": [
    "## Rune generation"
   ]
  },
  {
   "cell_type": "code",
   "execution_count": 18,
   "metadata": {},
   "outputs": [
    {
     "data": {
      "text/markdown": [
       "## Elemental Forces:\n",
       " - **Rune of Earth**: Represents grounding and stability, perfect for organizing spaces, decluttering, and creating a structured environment.\n",
       " - **Rune of Water**: Symbolizes cleansing and fluidity, associated with washing dishes, laundry, and any tasks that involve water for cleaning.\n",
       " - **Rune of Fire**: Embodies transformation and energy, ideal for tasks like cooking, burning waste, or creating warmth and ambiance.\n",
       " - **Rune of Air**: Connotes freshness and movement, connected to tasks involving ventilation, dusting, and refreshing spaces with air circulation.\n",
       " - **Rune of Metal**: Represents strength and preservation, suited for tasks involving repairing, recycling metallic items, and maintaining tools.\n",
       " - **Rune of Wood**: Embodies growth and nourishment, relevant to gardening, organizing wooden items, and caring for houseplants.\n",
       " - **Rune of Spirit**: Symbolizes motivation and intention, tied to planning tasks, goal-setting, and infusing positivity into mundane chores."
      ],
      "text/plain": [
       "<IPython.core.display.Markdown object>"
      ]
     },
     "metadata": {},
     "output_type": "display_data"
    },
    {
     "data": {
      "text/markdown": [
       "## Nature's Cycle:\n",
       " - **Rune of Seedling**: Symbolizes the beginning of a task. Tasks may include brainstorming ideas, making a to-do list, or multiplying the motivation to start a project, similar to planting seeds for future growth.\n",
       " - **Rune of Growth**: Embodies the nurturing stage where tasks are developed and expanded. Tasks like gathering materials, practicing skills, or gradually working on a project reflect this increasable growth phase.\n",
       " - **Rune of Bloom**: Represents the flourishing culmination of a task. Completing stages of a project, showing off your work, or celebrating a successfully finished chore embody this vibrant expression of effort.\n",
       " - **Rune of Wither**: Symbolizes decay and the importance of letting go. Tasks such as decluttering, throwing away expired food, or getting rid of old clothes highlight the necessity of clearing away the old to make space for the new.\n",
       " - **Rune of Rejuvenation**: Embodies revitalization and restoration. Tasks like cleaning, organizing, and refreshing spaces signify the act of re-energizing environments, akin to the earth rejuvenating after a season.\n",
       " - **Rune of Renewal**: Represents the cycle of revival and transformation. Engaging in recycling, repurposing old items, or recharging spiritually through meditation and self-care aligns with the themes of nature's continual renewal process."
      ],
      "text/plain": [
       "<IPython.core.display.Markdown object>"
      ]
     },
     "metadata": {},
     "output_type": "display_data"
    },
    {
     "data": {
      "text/markdown": [
       "## Celestial Motions:\n",
       " - **Rune of the Sun**: Represents illumination and energy. Tasks that fall under this rune involve finding motivation and brightening your space. These can include vacuuming, dusting, or organizing items to make the environment feel more vibrant and lively.\n",
       " - **Rune of the Moon**: Symbolizes reflection and contemplation. Tasks composed of this rune focus on introspection and organizing one's thoughts. Suitable tasks could be writing in a journal, planning out your week, or decluttering one’s mind by engaging in meditation.\n",
       " - **Rune of the Stars**: Represents aspirations and dreams. This rune embodies setting goals for your clean space, such as creating a cleaning schedule, designing a layout for better organization, or establishing a list of improvements you want to make in your living area.\n",
       " - **Rune of the Comet**: Symbolizes swift change and transformation. Tasks that embody this rune include quick tidying up, throwing out expired food, or making instant improvements like rearranging furniture for a more functional space.\n",
       " - **Rune of the Galaxy**: Represents a sense of community and shared space. Tasks influenced by this rune involve collaboration, such as inviting roommates to participate in a group clean-up, organizing a communal dinner night, or setting up a chore rotation.\n",
       " - **Rune of the Nebula**: Symbolizes creativity and birth of ideas. Tasks associated with this rune can include redecorating a room, upcycling furniture, or brainstorming new organizing solutions for merging aesthetics with functionality.\n",
       " - **Rune of the Eclipse**: Represents the balance between light and dark, symbolizing cleansing and renewal. Tasks under this rune could be deeply cleansing, such as deep cleaning an area, purging items you no longer use, or reorganizing after a big life change."
      ],
      "text/plain": [
       "<IPython.core.display.Markdown object>"
      ]
     },
     "metadata": {},
     "output_type": "display_data"
    }
   ],
   "source": [
    "class Rune(BaseModel):\n",
    "    name: str\n",
    "    description: str\n",
    "\n",
    "class Runes(BaseModel):\n",
    "    ideas: list[Rune]\n",
    "\n",
    "def generate_runes(themes: RuneThemes) -> Runes:\n",
    "    all_runes: list[Rune] = []\n",
    "    for i, theme in enumerate(themes.ideas):\n",
    "        rune_count = round((GENERATE_RUNES_COUNT-len(all_runes))/(len(themes.ideas)-i))\n",
    "        runes = generate_runes_for_theme(theme, rune_count)\n",
    "        display_runes(runes, theme)\n",
    "        all_runes.extend(runes.ideas)\n",
    "    return Runes(ideas = all_runes)\n",
    "\n",
    "\n",
    "def generate_runes_for_theme(theme: RuneTheme, count: int) -> Runes:\n",
    "    completion = client.beta.chat.completions.parse(\n",
    "        model=\"gpt-4o-mini\",\n",
    "        messages=[\n",
    "            {\"role\": \"system\", \"content\": f\"I'm making a game in which mundane tasks (such as throwing out trash or doing dishes) can be separated each into multiple runes. Come up with a list of {count} runes that follow the theme \\\"{theme.name}\\\" - {theme.description}. The name of each rune should be \\\"Rune of ...\\\". Also, for each rune give a brief descriptions what kind of tasks qualify as being \\\"composed of\\\" that rune.\"},\n",
    "        ],\n",
    "        response_format=Runes,\n",
    "    )\n",
    "    return completion.choices[0].message.parsed\n",
    "\n",
    "def display_runes(runes: Runes, theme: RuneTheme):\n",
    "    if not DISPLAY_SPOILERS:\n",
    "        return\n",
    "    display(Markdown(f\"## {theme.name}:\\n\" + \"\\n\".join(f\" - **{rune.name}**: {rune.description}\" for rune in runes.ideas)))\n",
    "\n",
    "runes = generate_runes(themes)"
   ]
  },
  {
   "cell_type": "markdown",
   "metadata": {},
   "source": [
    "## Generate rune sprites"
   ]
  },
  {
   "cell_type": "code",
   "execution_count": 57,
   "metadata": {},
   "outputs": [
    {
     "name": "stderr",
     "output_type": "stream",
     "text": [
      "Total VRAM 12282 MB, total RAM 32609 MB\n",
      "pytorch version: 2.5.0+cu124\n",
      "WARNING[XFORMERS]: xFormers can't load C++/CUDA extensions. xFormers was built for:\n",
      "    PyTorch 2.0.1+cu118 with CUDA 1108 (you have 2.5.0+cu124)\n",
      "    Python  3.10.11 (you have 3.10.11)\n",
      "  Please reinstall xformers (see https://github.com/facebookresearch/xformers#installing-xformers)\n",
      "  Memory-efficient attention, SwiGLU, sparse and more won't be available.\n",
      "  Set XFORMERS_MORE_DETAILS=1 for more details\n",
      "C:\\Users\\Aurif\\AppData\\Local\\Packages\\PythonSoftwareFoundation.Python.3.10_qbz5n2kfra8p0\\LocalCache\\local-packages\\Python310\\site-packages\\xformers\\ops\\swiglu_op.py:107: FutureWarning: `torch.cuda.amp.custom_fwd(args...)` is deprecated. Please use `torch.amp.custom_fwd(args..., device_type='cuda')` instead.\n",
      "  def forward(cls, ctx, x, w1, b1, w2, b2, w3, b3):\n",
      "C:\\Users\\Aurif\\AppData\\Local\\Packages\\PythonSoftwareFoundation.Python.3.10_qbz5n2kfra8p0\\LocalCache\\local-packages\\Python310\\site-packages\\xformers\\ops\\swiglu_op.py:128: FutureWarning: `torch.cuda.amp.custom_bwd(args...)` is deprecated. Please use `torch.amp.custom_bwd(args..., device_type='cuda')` instead.\n",
      "  def backward(cls, ctx, dx5):\n",
      "xformers version: 0.0.21\n",
      "Set vram state to: NORMAL_VRAM\n",
      "Device: cuda:0 NVIDIA GeForce RTX 4070 Ti : native\n",
      "Using pytorch cross attention\n",
      "C:\\Users\\Aurif\\AppData\\Local\\Packages\\PythonSoftwareFoundation.Python.3.10_qbz5n2kfra8p0\\LocalCache\\local-packages\\Python310\\site-packages\\transformers\\utils\\generic.py:441: FutureWarning: `torch.utils._pytree._register_pytree_node` is deprecated. Please use `torch.utils._pytree.register_pytree_node` instead.\n",
      "  _torch_pytree._register_pytree_node(\n",
      "[Prompt Server] web root: D:\\AI\\Flux\\ComfyUI\\web\n",
      "C:\\Users\\Aurif\\AppData\\Local\\Packages\\PythonSoftwareFoundation.Python.3.10_qbz5n2kfra8p0\\LocalCache\\local-packages\\Python310\\site-packages\\kornia\\feature\\lightglue.py:44: FutureWarning: `torch.cuda.amp.custom_fwd(args...)` is deprecated. Please use `torch.amp.custom_fwd(args..., device_type='cuda')` instead.\n",
      "  @torch.cuda.amp.custom_fwd(cast_inputs=torch.float32)\n",
      "\n",
      "Import times for custom nodes:\n",
      "   0.0 seconds: D:\\AI\\Flux\\ComfyUI\\custom_nodes\\websocket_image_save.py\n",
      "   0.1 seconds: D:\\AI\\Flux\\ComfyUI\\custom_nodes\\ComfyUI-to-Python-Extension\n",
      "\n",
      "model weight dtype torch.float8_e4m3fn, manual cast: torch.bfloat16\n",
      "model_type FLOW\n",
      "Using pytorch attention in VAE\n",
      "Using pytorch attention in VAE\n",
      "Requested to load FluxClipModel_\n",
      "Loading 1 new model\n",
      "loaded completely 0.0 4777.53759765625 True\n",
      "Requested to load Flux\n",
      "Loading 1 new model\n",
      "loaded partially 9584.67451171875 9584.5341796875 0\n",
      "  0%|          | 0/15 [00:00<?, ?it/s]"
     ]
    },
    {
     "name": "stdout",
     "output_type": "stream",
     "text": [
      "ComfyUI found: D:\\AI\\Flux\\ComfyUI\n",
      "'D:\\AI\\Flux\\ComfyUI' added to sys.path\n",
      "Could not find the extra_model_paths config file.\n",
      "ComfyUI found: D:\\AI\\Flux\\ComfyUI\n",
      "'D:\\AI\\Flux\\ComfyUI' added to sys.path\n"
     ]
    },
    {
     "name": "stderr",
     "output_type": "stream",
     "text": [
      "100%|##########| 15/15 [00:16<00:00,  1.13s/it]\n",
      "Requested to load AutoencodingEngine\n",
      "Loading 1 new model\n",
      "loaded completely 0.0 159.87335777282715 True\n",
      "Requested to load FluxClipModel_\n",
      "Loading 1 new model\n",
      "loaded completely 0.0 4777.53759765625 True\n",
      "loaded partially 9545.67451171875 9545.5224609375 0\n",
      "100%|##########| 15/15 [00:14<00:00,  1.05it/s]\n",
      "Requested to load AutoencodingEngine\n",
      "Loading 1 new model\n",
      "loaded completely 0.0 159.87335777282715 True\n",
      "Requested to load FluxClipModel_\n",
      "Loading 1 new model\n",
      "loaded completely 0.0 4777.53759765625 True\n",
      "loaded partially 9545.67451171875 9545.5224609375 0\n",
      "100%|##########| 15/15 [00:14<00:00,  1.04it/s]\n",
      "Requested to load AutoencodingEngine\n",
      "Loading 1 new model\n",
      "loaded completely 0.0 159.87335777282715 True\n"
     ]
    },
    {
     "name": "stdout",
     "output_type": "stream",
     "text": [
      "Move-Item -Path \"D:\\AI\\Flux\\ComfyUI\\output\\rune_88e26111-3dd6-4327-b94d-1f0ec17ffa9d_the Eclipse_00001_.png\" -Destination \"D:\\Projects\\Az_zy - idle\\Generation\\img\\dGhlIEVjbGlwc2U=_1.png\" -Force; Move-Item -Path \"D:\\AI\\Flux\\ComfyUI\\output\\rune_88e26111-3dd6-4327-b94d-1f0ec17ffa9d_the Eclipse_00002_.png\" -Destination \"D:\\Projects\\Az_zy - idle\\Generation\\img\\dGhlIEVjbGlwc2U=_2.png\" -Force; Move-Item -Path \"D:\\AI\\Flux\\ComfyUI\\output\\rune_88e26111-3dd6-4327-b94d-1f0ec17ffa9d_the Eclipse_00003_.png\" -Destination \"D:\\Projects\\Az_zy - idle\\Generation\\img\\dGhlIEVjbGlwc2U=_3.png\" -Force; Move-Item -Path \"D:\\AI\\Flux\\ComfyUI\\output\\rune_88e26111-3dd6-4327-b94d-1f0ec17ffa9d_the Eclipse_00004_.png\" -Destination \"D:\\Projects\\Az_zy - idle\\Generation\\img\\dGhlIEVjbGlwc2U=_4.png\" -Force; Move-Item -Path \"D:\\AI\\Flux\\ComfyUI\\output\\rune_88e26111-3dd6-4327-b94d-1f0ec17ffa9d_Seedling_00001_.png\" -Destination \"D:\\Projects\\Az_zy - idle\\Generation\\img\\U2VlZGxpbmc=_1.png\" -Force; Move-Item -Path \"D:\\AI\\Flux\\ComfyUI\\output\\rune_88e26111-3dd6-4327-b94d-1f0ec17ffa9d_Seedling_00002_.png\" -Destination \"D:\\Projects\\Az_zy - idle\\Generation\\img\\U2VlZGxpbmc=_2.png\" -Force; Move-Item -Path \"D:\\AI\\Flux\\ComfyUI\\output\\rune_88e26111-3dd6-4327-b94d-1f0ec17ffa9d_Seedling_00003_.png\" -Destination \"D:\\Projects\\Az_zy - idle\\Generation\\img\\U2VlZGxpbmc=_3.png\" -Force; Move-Item -Path \"D:\\AI\\Flux\\ComfyUI\\output\\rune_88e26111-3dd6-4327-b94d-1f0ec17ffa9d_Seedling_00004_.png\" -Destination \"D:\\Projects\\Az_zy - idle\\Generation\\img\\U2VlZGxpbmc=_4.png\" -Force; Move-Item -Path \"D:\\AI\\Flux\\ComfyUI\\output\\rune_88e26111-3dd6-4327-b94d-1f0ec17ffa9d_the Comet_00001_.png\" -Destination \"D:\\Projects\\Az_zy - idle\\Generation\\img\\dGhlIENvbWV0_1.png\" -Force; Move-Item -Path \"D:\\AI\\Flux\\ComfyUI\\output\\rune_88e26111-3dd6-4327-b94d-1f0ec17ffa9d_the Comet_00002_.png\" -Destination \"D:\\Projects\\Az_zy - idle\\Generation\\img\\dGhlIENvbWV0_2.png\" -Force; Move-Item -Path \"D:\\AI\\Flux\\ComfyUI\\output\\rune_88e26111-3dd6-4327-b94d-1f0ec17ffa9d_the Comet_00003_.png\" -Destination \"D:\\Projects\\Az_zy - idle\\Generation\\img\\dGhlIENvbWV0_3.png\" -Force; Move-Item -Path \"D:\\AI\\Flux\\ComfyUI\\output\\rune_88e26111-3dd6-4327-b94d-1f0ec17ffa9d_the Comet_00004_.png\" -Destination \"D:\\Projects\\Az_zy - idle\\Generation\\img\\dGhlIENvbWV0_4.png\" -Force\n"
     ]
    }
   ],
   "source": [
    "def generate_rune_sprites(runes: list[str]):\n",
    "    path_here = os.popen('powershell.exe -Command \"(Get-Item .).FullName\"').read().replace(\"\\n\", \"\")\n",
    "    uid = uuid.uuid4()\n",
    "    runes_str = json.dumps(runes).replace('\"', '\\\\\"')\n",
    "\n",
    "    command = f'cd {COMFYUI_PATH}; python \"{path_here}\\image_gen_runes.py\" --uuid \"{uid}\" --runes \\'{runes_str}\\''\n",
    "    full_command = f'powershell.exe -Command {json.dumps(command)}'\n",
    "    os.system(full_command)\n",
    "\n",
    "    commands = []\n",
    "    for rune in runes:\n",
    "        rune_encoded = base64.b64encode(rune.encode(\"ascii\")).decode(\"ascii\")\n",
    "        for i in range(1, 5):\n",
    "            command = f'Move-Item -Path \"{COMFYUI_PATH}\\\\output\\\\rune_{uid}_{rune}_0000{i}_.png\" -Destination \"{path_here}\\\\img\\\\{rune_encoded}_{i}.png\" -Force'\n",
    "            commands.append(command)\n",
    "    print(\"; \".join(commands))\n",
    "    os.system(f'powershell.exe -Command {json.dumps(\"; \".join(commands))}')\n",
    "\n",
    "generate_rune_sprites([\"the Eclipse\", \"Seedling\", \"the Comet\"])"
   ]
  },
  {
   "cell_type": "code",
   "execution_count": 55,
   "metadata": {},
   "outputs": [
    {
     "data": {
      "text/plain": [
       "'YWJj'"
      ]
     },
     "execution_count": 55,
     "metadata": {},
     "output_type": "execute_result"
    }
   ],
   "source": [
    "base64.b64encode('abc'.encode(\"ascii\")).decode(\"ascii\")"
   ]
  }
 ],
 "metadata": {
  "kernelspec": {
   "display_name": "venv",
   "language": "python",
   "name": "python3"
  },
  "language_info": {
   "codemirror_mode": {
    "name": "ipython",
    "version": 3
   },
   "file_extension": ".py",
   "mimetype": "text/x-python",
   "name": "python",
   "nbconvert_exporter": "python",
   "pygments_lexer": "ipython3",
   "version": "3.10.12"
  }
 },
 "nbformat": 4,
 "nbformat_minor": 2
}
