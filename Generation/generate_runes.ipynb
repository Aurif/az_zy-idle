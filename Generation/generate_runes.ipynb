{
 "cells": [
  {
   "cell_type": "code",
   "execution_count": 36,
   "metadata": {},
   "outputs": [],
   "source": [
    "from pydantic import BaseModel\n",
    "from openai import OpenAI\n",
    "from IPython.display import display, Markdown\n",
    "from collections import defaultdict\n",
    "import itertools\n",
    "import json\n",
    "import uuid\n",
    "import os\n",
    "import base64\n",
    "import re\n",
    "\n",
    "from secret_vars import OPENAI_KEY\n",
    "\n",
    "client = OpenAI(api_key=OPENAI_KEY)"
   ]
  },
  {
   "cell_type": "code",
   "execution_count": 20,
   "metadata": {},
   "outputs": [],
   "source": [
    "DISPLAY_SPOILERS = True\n",
    "GENERATE_THEMES_COUNT = 3\n",
    "GENERATE_RUNES_COUNT = 20\n",
    "COMFYUI_PATH = \"D:\\AI\\Flux\\ComfyUI\""
   ]
  },
  {
   "cell_type": "markdown",
   "metadata": {},
   "source": [
    "## Theme generation"
   ]
  },
  {
   "cell_type": "code",
   "execution_count": 58,
   "metadata": {},
   "outputs": [
    {
     "data": {
      "text/markdown": [
       "## Nature's Cycle\n",
       "Each rune represents a step in nature's cycle, emphasizing the importance of maintaining balance and harmony in the environment. For example, 'Seed' for initiation, 'Growth' for progression, and 'Harvest' for completion.\n",
       "## Elemental Forces\n",
       "Runes represent different elements (Earth, Water, Fire, Air) that relate to the task. 'Earth' for grounding tasks like organizing, 'Water' for fluid tasks like washing, 'Fire' for energizing tasks like motivating to declutter, and 'Air' for tasks related to lifting spirits.\n",
       "## Daily Rhythm\n",
       "Runes that embody the rhythm of daily life, such as 'Dawn' for starting a task, 'Noon' for peak productivity, 'Dusk' for winding down, and 'Midnight' for reflection and completion of chores."
      ],
      "text/plain": [
       "<IPython.core.display.Markdown object>"
      ]
     },
     "metadata": {},
     "output_type": "display_data"
    }
   ],
   "source": [
    "class RuneTheme(BaseModel):\n",
    "    name: str\n",
    "    description: str\n",
    "\n",
    "    def __hash__(self):\n",
    "        return hash((self.name, self.description))\n",
    "\n",
    "class RuneThemes(BaseModel):\n",
    "    ideas: list[RuneTheme]\n",
    "\n",
    "def generate_themes() -> RuneThemes:\n",
    "    completion = client.beta.chat.completions.parse(\n",
    "        model=\"gpt-4o-mini\",\n",
    "        messages=[\n",
    "            {\"role\": \"system\", \"content\": f\"I'm making a game in which mundane tasks (such as throwing out trash or doing dishes) can be separated each into multiple runes. What overarching theme can I use for coming up with those runes? Reply with a list of {GENERATE_THEMES_COUNT} propositions.\"},\n",
    "        ],\n",
    "        response_format=RuneThemes,\n",
    "    )\n",
    "    return completion.choices[0].message.parsed\n",
    "\n",
    "def display_themes(themes: RuneThemes):\n",
    "    if not DISPLAY_SPOILERS:\n",
    "        return\n",
    "    display(Markdown(\"\\n\".join(f\"## {theme.name}\\n{theme.description}\" for theme in themes.ideas)))\n",
    "\n",
    "themes = generate_themes()\n",
    "display_themes(themes)"
   ]
  },
  {
   "cell_type": "markdown",
   "metadata": {},
   "source": [
    "## Rune generation"
   ]
  },
  {
   "cell_type": "code",
   "execution_count": 59,
   "metadata": {},
   "outputs": [
    {
     "data": {
      "text/markdown": [
       "## Nature's Cycle:\n",
       " - **Rune of Seed**: Represents the initiation of new life and ideas, symbolizing potential and creativity. Planting seeds, starting a new project, brainstorming ideas, or preparing the soil for gardening.\n",
       " - **Rune of Growth**: Symbolizes the nurturing and development of life, representing progress and resilience. Watering plants, fertilizing soil, consistent practice on a skill, or caring for animals.\n",
       " - **Rune of Bloom**: Represents flourishing and beauty, marking the peak of life and success in endeavors. Fully blooming flowers, completing a creative project, achieving a goal, or showcasing talents.\n",
       " - **Rune of Harvest**: Symbolizes the gathering and receiving of resources, emphasizing the reward of hard work. Collecting fruits, completing tasks, wrapping up projects, or reaping the benefits of previous efforts.\n",
       " - **Rune of Decay**: Represents the natural breakdown and recycling processes, symbolizing rejuvenation and rebirth. Composting organic waste, cleaning out old materials, recycling, or clearing out clutter.\n",
       " - **Rune of Rest**: Symbolizes the necessary pause for recovery and reflection, marking the end of one cycle before another begins. Taking breaks, enjoying nature, meditating, or practicing self-care.\n",
       " - **Rune of Renewal**: Represents the cycle’s reset, embodying transformation and new beginnings following decay. Planning new goals, replanting after a harvest, refreshing spaces, or making resolutions.\n",
       " - **Rune of Germination**: Represents the early stages where life begins to emerge from the ground. Watering newly planted seeds, monitoring humidity levels in a greenhouse, or providing warmth to sprouting plants."
      ],
      "text/plain": [
       "<IPython.core.display.Markdown object>"
      ]
     },
     "metadata": {},
     "output_type": "display_data"
    },
    {
     "data": {
      "text/markdown": [
       "## Elemental Forces:\n",
       " - **Rune of Grounding**: This rune embodies the stability and strength of the Earth element, promoting a sense of order and structure. Organizing, decluttering, arranging items, sorting through belongings, and grounding routines.\n",
       " - **Rune of Flow**: Inspired by the flowing nature of Water, this rune represents tasks that require a fluid motion or rhythm, allowing for natural progression. Washing dishes, watering plants, doing laundry, mopping floors, and taking showers.\n",
       " - **Rune of Ignition**: Harnessing the energy of Fire, this rune motivates one to take action and sparks enthusiasm towards completing tasks. Setting goals, motivating oneself to declutter, igniting passion for projects, lighting candles for ambiance, and starting new ventures.\n",
       " - **Rune of Elevation**: Reflecting the uplifting qualities of Air, this rune encourages lightness, inspiration, and creativity in mundane activities. Playing music while cleaning, meditating during chores, practicing mindfulness, uplifting conversations while working, and enjoying aesthetic arrangements.\n",
       " - **Rune of Purity**: Drawing from the cleansing essence of Water, this rune focuses on purification and freshness in any task. Cleaning surfaces, scrubbing floors, purifying the air (through ventilation or plants), washing linens, and sanitizing spaces."
      ],
      "text/plain": [
       "<IPython.core.display.Markdown object>"
      ]
     },
     "metadata": {},
     "output_type": "display_data"
    },
    {
     "data": {
      "text/markdown": [
       "## Daily Rhythm:\n",
       " - **Rune of Dawn**: Symbolizing the start of a new day, this rune embodies the freshness and vitality brought by morning light. Waking up, making the bed, brewing coffee, or preparing a healthy breakfast.\n",
       " - **Rune of Morning**: Representing the busyness of the morning routine, this rune signifies productivity and energy levels rising after the dawn. Showering, getting dressed, doing skincare, or packing lunch.\n",
       " - **Rune of Noon**: The peak of the day, this rune reflects the height of productivity and the completion of significant tasks. Doing major tasks like working, studying, running errands, or completing household chores.\n",
       " - **Rune of Afternoon**: This rune symbolizes a time of reflection and reassessment of goals after the peak productivity wanes. Taking a break, having lunch, tidying up workspaces, or engaging in light reading.\n",
       " - **Rune of Evening**: Signifying the winding down of activities, this rune captures the cozy and calming atmosphere as day turns to night. Preparing and eating dinner, watching TV, or spending time with family.\n",
       " - **Rune of Dusk**: Marking the transition to nighttime, this rune signifies the slowing down of energy and shift towards relaxation. Cleaning up after dinner, preparing for the next day, or casual conversations.\n",
       " - **Rune of Midnight**: This rune symbolizes reflection and introspection as the day comes to a close. Relaxing activities like reading, journaling, or contemplating accomplishments and challenges."
      ],
      "text/plain": [
       "<IPython.core.display.Markdown object>"
      ]
     },
     "metadata": {},
     "output_type": "display_data"
    }
   ],
   "source": [
    "class Rune(BaseModel):\n",
    "    name: str\n",
    "    rune_description: str\n",
    "    tasks_composed_of: str\n",
    "\n",
    "    def stripped(self) -> str:\n",
    "        return re.match(\"^Rune of(?: the)? (.+?)$\", self.name).group(1)\n",
    "\n",
    "    def encoded(self) -> str:\n",
    "        return base64.b64encode(self.stripped().encode(\"ascii\")).decode(\"ascii\")\n",
    "\n",
    "class Runes(BaseModel):\n",
    "    ideas: list[Rune]\n",
    "\n",
    "def generate_runes(themes: RuneThemes) -> Runes:\n",
    "    non_duplicate_runes = defaultdict(list)\n",
    "    taken_rune_names = set()\n",
    "    \n",
    "    i = 0\n",
    "    while len(taken_rune_names) < GENERATE_RUNES_COUNT:\n",
    "        theme = themes.ideas[i%len(themes.ideas)]\n",
    "        \n",
    "        required_rune_count = round((GENERATE_RUNES_COUNT-len(taken_rune_names))/max(1, len(themes.ideas)-i))\n",
    "        if i >= len(themes.ideas):\n",
    "            required_rune_count *= 2\n",
    "        rune_count = required_rune_count+len(non_duplicate_runes[theme])\n",
    "        runes = generate_runes_for_theme(theme, rune_count)\n",
    "\n",
    "        for rune in runes.ideas:\n",
    "            if rune.stripped() not in taken_rune_names:\n",
    "                taken_rune_names.add(rune.stripped())\n",
    "                non_duplicate_runes[theme].append(rune)\n",
    "            if len(taken_rune_names) >= GENERATE_RUNES_COUNT:\n",
    "                break\n",
    "\n",
    "        i += 1\n",
    "        if i > GENERATE_THEMES_COUNT*3:\n",
    "            raise Exception(\"Couldn't generate runes\")\n",
    "    \n",
    "    for theme, runes in non_duplicate_runes.items():\n",
    "        display_runes(runes, theme)\n",
    "\n",
    "    return Runes(ideas = itertools.chain(*non_duplicate_runes.values()))\n",
    "\n",
    "\n",
    "def generate_runes_for_theme(theme: RuneTheme, count: int) -> Runes:\n",
    "    completion = client.beta.chat.completions.parse(\n",
    "        model=\"gpt-4o-mini\",\n",
    "        messages=[\n",
    "            {\"role\": \"system\", \"content\": f\"I'm making a game in which mundane tasks (such as throwing out trash or doing dishes) can be separated each into multiple runes. Come up with a list of {count} runes that follow the theme \\\"{theme.name}\\\" - {theme.description}. The name of each rune should be \\\"Rune of ...\\\". Also, for each rune give a brief descriptions what kind of tasks qualify as being \\\"composed of\\\" that rune.\"},\n",
    "        ],\n",
    "        response_format=Runes,\n",
    "    )\n",
    "    return completion.choices[0].message.parsed\n",
    "\n",
    "def display_runes(runes: list[Rune], theme: RuneTheme):\n",
    "    if not DISPLAY_SPOILERS:\n",
    "        return\n",
    "    display(Markdown(f\"## {theme.name}:\\n\" + \"\\n\".join(f\" - **{rune.name}**: {rune.rune_description} {rune.tasks_composed_of}\" for rune in runes)))\n",
    "\n",
    "runes = generate_runes(themes)"
   ]
  },
  {
   "cell_type": "markdown",
   "metadata": {},
   "source": [
    "## Generate rune sprites"
   ]
  },
  {
   "cell_type": "markdown",
   "metadata": {},
   "source": [
    "### Visual concept"
   ]
  },
  {
   "cell_type": "code",
   "execution_count": 60,
   "metadata": {},
   "outputs": [
    {
     "data": {
      "text/markdown": [
       " - **Rune of Seed**: Tiny Circle\n",
       " - **Rune of Growth**: Upward Arrow\n",
       " - **Rune of Bloom**: Open Flower\n",
       " - **Rune of Harvest**: Grain Bundle\n",
       " - **Rune of Decay**: Falling Leaf\n",
       " - **Rune of Rest**: Horizontal Line\n",
       " - **Rune of Renewal**: Circle Arrow\n",
       " - **Rune of Germination**: Sprouting Seed\n",
       " - **Rune of Grounding**: Triangle Base\n",
       " - **Rune of Flow**: Wavy Line\n",
       " - **Rune of Ignition**: Spark Star\n",
       " - **Rune of Elevation**: Rising Line\n",
       " - **Rune of Purity**: Pure Circle\n",
       " - **Rune of Dawn**: Half Sun\n",
       " - **Rune of Morning**: Sunrise Rays\n",
       " - **Rune of Noon**: Full Sun\n",
       " - **Rune of Afternoon**: Sunset Rays\n",
       " - **Rune of Evening**: Horizon Line\n",
       " - **Rune of Dusk**: Fading Circle\n",
       " - **Rune of Midnight**: Dark Circle"
      ],
      "text/plain": [
       "<IPython.core.display.Markdown object>"
      ]
     },
     "metadata": {},
     "output_type": "display_data"
    }
   ],
   "source": [
    "class RunePictogram(BaseModel):\n",
    "    rune: str\n",
    "    symbol: str\n",
    "\n",
    "class RunePictograms(BaseModel):\n",
    "    runes: list[RunePictogram]\n",
    "\n",
    "class RuneWithPictogram(Rune):\n",
    "    symbol: str\n",
    "\n",
    "def generate_runes_pictograms(runes: Runes) -> list[RuneWithPictogram]:\n",
    "    rune_names = \"\\n\".join([rune.name for rune in runes.ideas])\n",
    "    completion = client.beta.chat.completions.parse(\n",
    "        model=\"gpt-4o-mini\",\n",
    "        messages=[\n",
    "            {\"role\": \"system\", \"content\": f\"What rune-like symbol/pictogram would best fit the following runes? For each rune, reply with a single answer containing max three words. Try to make each rune recognizable and distinct from the other ones. Make all your ideas \\\"fit\\\" with one another. Prefer simple symbols over intricate ones. Remember that those are supposed to be font-like characters for runes, not entire pictures.\\n\\n{rune_names}\"},\n",
    "        ],\n",
    "        response_format=RunePictograms,\n",
    "    )\n",
    "    pictograms = completion.choices[0].message.parsed\n",
    "    \n",
    "    pictogram_map = {p.rune: p.symbol for p in pictograms.runes}\n",
    "    return [\n",
    "        RuneWithPictogram(**rune.dict(), symbol = pictogram_map.get(rune.name, rune.name))\n",
    "        for rune in runes.ideas\n",
    "    ]\n",
    "\n",
    "def display_runes_pictograms(runes: list[RuneWithPictogram]):\n",
    "    if not DISPLAY_SPOILERS:\n",
    "        return\n",
    "    display(Markdown(\"\\n\".join(f\" - **{rune.name}**: {rune.symbol}\" for rune in runes)))\n",
    "\n",
    "rune_pictograms = generate_runes_pictograms(runes)\n",
    "display_runes_pictograms(rune_pictograms)"
   ]
  },
  {
   "cell_type": "markdown",
   "metadata": {},
   "source": [
    "### Initial sprite generation"
   ]
  },
  {
   "cell_type": "code",
   "execution_count": 61,
   "metadata": {},
   "outputs": [
    {
     "name": "stderr",
     "output_type": "stream",
     "text": [
      "Total VRAM 12282 MB, total RAM 32609 MB\n",
      "pytorch version: 2.5.0+cu124\n",
      "WARNING[XFORMERS]: xFormers can't load C++/CUDA extensions. xFormers was built for:\n",
      "    PyTorch 2.0.1+cu118 with CUDA 1108 (you have 2.5.0+cu124)\n",
      "    Python  3.10.11 (you have 3.10.11)\n",
      "  Please reinstall xformers (see https://github.com/facebookresearch/xformers#installing-xformers)\n",
      "  Memory-efficient attention, SwiGLU, sparse and more won't be available.\n",
      "  Set XFORMERS_MORE_DETAILS=1 for more details\n",
      "C:\\Users\\Aurif\\AppData\\Local\\Packages\\PythonSoftwareFoundation.Python.3.10_qbz5n2kfra8p0\\LocalCache\\local-packages\\Python310\\site-packages\\xformers\\ops\\swiglu_op.py:107: FutureWarning: `torch.cuda.amp.custom_fwd(args...)` is deprecated. Please use `torch.amp.custom_fwd(args..., device_type='cuda')` instead.\n",
      "  def forward(cls, ctx, x, w1, b1, w2, b2, w3, b3):\n",
      "C:\\Users\\Aurif\\AppData\\Local\\Packages\\PythonSoftwareFoundation.Python.3.10_qbz5n2kfra8p0\\LocalCache\\local-packages\\Python310\\site-packages\\xformers\\ops\\swiglu_op.py:128: FutureWarning: `torch.cuda.amp.custom_bwd(args...)` is deprecated. Please use `torch.amp.custom_bwd(args..., device_type='cuda')` instead.\n",
      "  def backward(cls, ctx, dx5):\n",
      "xformers version: 0.0.21\n",
      "Set vram state to: NORMAL_VRAM\n",
      "Device: cuda:0 NVIDIA GeForce RTX 4070 Ti : native\n",
      "Using pytorch cross attention\n",
      "C:\\Users\\Aurif\\AppData\\Local\\Packages\\PythonSoftwareFoundation.Python.3.10_qbz5n2kfra8p0\\LocalCache\\local-packages\\Python310\\site-packages\\transformers\\utils\\generic.py:441: FutureWarning: `torch.utils._pytree._register_pytree_node` is deprecated. Please use `torch.utils._pytree.register_pytree_node` instead.\n",
      "  _torch_pytree._register_pytree_node(\n",
      "[Prompt Server] web root: D:\\AI\\Flux\\ComfyUI\\web\n",
      "C:\\Users\\Aurif\\AppData\\Local\\Packages\\PythonSoftwareFoundation.Python.3.10_qbz5n2kfra8p0\\LocalCache\\local-packages\\Python310\\site-packages\\kornia\\feature\\lightglue.py:44: FutureWarning: `torch.cuda.amp.custom_fwd(args...)` is deprecated. Please use `torch.amp.custom_fwd(args..., device_type='cuda')` instead.\n",
      "  @torch.cuda.amp.custom_fwd(cast_inputs=torch.float32)\n",
      "\n",
      "Import times for custom nodes:\n",
      "   0.0 seconds: D:\\AI\\Flux\\ComfyUI\\custom_nodes\\websocket_image_save.py\n",
      "   0.1 seconds: D:\\AI\\Flux\\ComfyUI\\custom_nodes\\ComfyUI-to-Python-Extension\n",
      "\n",
      "model weight dtype torch.float8_e4m3fn, manual cast: torch.bfloat16\n",
      "model_type FLOW\n",
      "Using pytorch attention in VAE\n",
      "Using pytorch attention in VAE\n",
      "Requested to load FluxClipModel_\n",
      "Loading 1 new model\n",
      "loaded completely 0.0 4777.53759765625 True\n",
      "Requested to load Flux\n",
      "Loading 1 new model\n",
      "loaded partially 9584.67451171875 9584.5341796875 0\n",
      "  0%|          | 0/15 [00:00<?, ?it/s]"
     ]
    },
    {
     "name": "stdout",
     "output_type": "stream",
     "text": [
      "ComfyUI found: D:\\AI\\Flux\\ComfyUI\n",
      "'D:\\AI\\Flux\\ComfyUI' added to sys.path\n",
      "Could not find the extra_model_paths config file.\n",
      "ComfyUI found: D:\\AI\\Flux\\ComfyUI\n",
      "'D:\\AI\\Flux\\ComfyUI' added to sys.path\n"
     ]
    },
    {
     "name": "stderr",
     "output_type": "stream",
     "text": [
      "100%|##########| 15/15 [00:15<00:00,  1.01s/it]\n",
      "Requested to load AutoencodingEngine\n",
      "Loading 1 new model\n",
      "loaded completely 0.0 159.87335777282715 True\n",
      "Requested to load FluxClipModel_\n",
      "Loading 1 new model\n",
      "loaded completely 0.0 4777.53759765625 True\n",
      "loaded partially 9545.67451171875 9545.5224609375 0\n",
      "100%|##########| 15/15 [00:12<00:00,  1.16it/s]\n",
      "Requested to load AutoencodingEngine\n",
      "Loading 1 new model\n",
      "loaded completely 0.0 159.87335777282715 True\n",
      "Requested to load FluxClipModel_\n",
      "Loading 1 new model\n",
      "loaded completely 0.0 4777.53759765625 True\n",
      "loaded partially 9545.67451171875 9545.5224609375 0\n",
      "100%|##########| 15/15 [00:12<00:00,  1.16it/s]\n",
      "Requested to load AutoencodingEngine\n",
      "Loading 1 new model\n",
      "loaded completely 0.0 159.87335777282715 True\n",
      "Requested to load FluxClipModel_\n",
      "Loading 1 new model\n",
      "loaded completely 0.0 4777.53759765625 True\n",
      "loaded partially 9545.67451171875 9545.5224609375 0\n",
      "100%|##########| 15/15 [00:12<00:00,  1.16it/s]\n",
      "Requested to load AutoencodingEngine\n",
      "Loading 1 new model\n",
      "loaded completely 0.0 159.87335777282715 True\n",
      "Requested to load FluxClipModel_\n",
      "Loading 1 new model\n",
      "loaded completely 0.0 4777.53759765625 True\n",
      "loaded partially 9545.67451171875 9545.5224609375 0\n",
      "100%|##########| 15/15 [00:12<00:00,  1.17it/s]\n",
      "Requested to load AutoencodingEngine\n",
      "Loading 1 new model\n",
      "loaded completely 0.0 159.87335777282715 True\n",
      "Requested to load FluxClipModel_\n",
      "Loading 1 new model\n",
      "loaded completely 0.0 4777.53759765625 True\n",
      "loaded partially 9545.67451171875 9545.5224609375 0\n",
      "100%|##########| 15/15 [00:12<00:00,  1.17it/s]\n",
      "Requested to load AutoencodingEngine\n",
      "Loading 1 new model\n",
      "loaded completely 0.0 159.87335777282715 True\n",
      "Requested to load FluxClipModel_\n",
      "Loading 1 new model\n",
      "loaded completely 0.0 4777.53759765625 True\n",
      "loaded partially 9545.67451171875 9545.5224609375 0\n",
      "100%|##########| 15/15 [00:12<00:00,  1.16it/s]\n",
      "Requested to load AutoencodingEngine\n",
      "Loading 1 new model\n",
      "loaded completely 0.0 159.87335777282715 True\n",
      "Requested to load FluxClipModel_\n",
      "Loading 1 new model\n",
      "loaded completely 0.0 4777.53759765625 True\n",
      "loaded partially 9545.67451171875 9545.5224609375 0\n",
      "100%|##########| 15/15 [00:13<00:00,  1.15it/s]\n",
      "Requested to load AutoencodingEngine\n",
      "Loading 1 new model\n",
      "loaded completely 0.0 159.87335777282715 True\n",
      "Requested to load FluxClipModel_\n",
      "Loading 1 new model\n",
      "loaded completely 0.0 4777.53759765625 True\n",
      "loaded partially 9545.67451171875 9545.5224609375 0\n",
      "100%|##########| 15/15 [00:12<00:00,  1.17it/s]\n",
      "Requested to load AutoencodingEngine\n",
      "Loading 1 new model\n",
      "loaded completely 0.0 159.87335777282715 True\n",
      "Requested to load FluxClipModel_\n",
      "Loading 1 new model\n",
      "loaded completely 0.0 4777.53759765625 True\n",
      "loaded partially 9545.67451171875 9545.5224609375 0\n",
      "100%|##########| 15/15 [00:12<00:00,  1.17it/s]\n",
      "Requested to load AutoencodingEngine\n",
      "Loading 1 new model\n",
      "loaded completely 0.0 159.87335777282715 True\n",
      "Requested to load FluxClipModel_\n",
      "Loading 1 new model\n",
      "loaded completely 0.0 4777.53759765625 True\n",
      "loaded partially 9545.67451171875 9545.5224609375 0\n",
      "100%|##########| 15/15 [00:12<00:00,  1.17it/s]\n",
      "Requested to load AutoencodingEngine\n",
      "Loading 1 new model\n",
      "loaded completely 0.0 159.87335777282715 True\n",
      "Requested to load FluxClipModel_\n",
      "Loading 1 new model\n",
      "loaded completely 0.0 4777.53759765625 True\n",
      "loaded partially 9545.67451171875 9545.5224609375 0\n",
      "100%|##########| 15/15 [00:13<00:00,  1.12it/s]\n",
      "Requested to load AutoencodingEngine\n",
      "Loading 1 new model\n",
      "loaded completely 0.0 159.87335777282715 True\n",
      "Requested to load FluxClipModel_\n",
      "Loading 1 new model\n",
      "loaded completely 0.0 4777.53759765625 True\n",
      "loaded partially 9545.67451171875 9545.5224609375 0\n",
      "100%|##########| 15/15 [00:12<00:00,  1.16it/s]\n",
      "Requested to load AutoencodingEngine\n",
      "Loading 1 new model\n",
      "loaded completely 0.0 159.87335777282715 True\n",
      "Requested to load FluxClipModel_\n",
      "Loading 1 new model\n",
      "loaded completely 0.0 4777.53759765625 True\n",
      "loaded partially 9545.67451171875 9545.5224609375 0\n",
      "100%|##########| 15/15 [00:12<00:00,  1.16it/s]\n",
      "Requested to load AutoencodingEngine\n",
      "Loading 1 new model\n",
      "loaded completely 0.0 159.87335777282715 True\n",
      "Requested to load FluxClipModel_\n",
      "Loading 1 new model\n",
      "loaded completely 0.0 4777.53759765625 True\n",
      "loaded partially 9545.67451171875 9545.5224609375 0\n",
      "100%|##########| 15/15 [00:13<00:00,  1.15it/s]\n",
      "Requested to load AutoencodingEngine\n",
      "Loading 1 new model\n",
      "loaded completely 0.0 159.87335777282715 True\n",
      "Requested to load FluxClipModel_\n",
      "Loading 1 new model\n",
      "loaded completely 0.0 4777.53759765625 True\n",
      "loaded partially 9545.67451171875 9545.5224609375 0\n",
      "100%|##########| 15/15 [00:12<00:00,  1.16it/s]\n",
      "Requested to load AutoencodingEngine\n",
      "Loading 1 new model\n",
      "loaded completely 0.0 159.87335777282715 True\n",
      "Requested to load FluxClipModel_\n",
      "Loading 1 new model\n",
      "loaded completely 0.0 4777.53759765625 True\n",
      "loaded partially 9545.67451171875 9545.5224609375 0\n",
      "100%|##########| 15/15 [00:13<00:00,  1.15it/s]\n",
      "Requested to load AutoencodingEngine\n",
      "Loading 1 new model\n",
      "loaded completely 0.0 159.87335777282715 True\n",
      "Requested to load FluxClipModel_\n",
      "Loading 1 new model\n",
      "loaded completely 0.0 4777.53759765625 True\n",
      "loaded partially 9545.67451171875 9545.5224609375 0\n",
      "100%|##########| 15/15 [00:12<00:00,  1.16it/s]\n",
      "Requested to load AutoencodingEngine\n",
      "Loading 1 new model\n",
      "loaded completely 0.0 159.87335777282715 True\n",
      "Requested to load FluxClipModel_\n",
      "Loading 1 new model\n",
      "loaded completely 0.0 4777.53759765625 True\n",
      "loaded partially 9545.67451171875 9545.5224609375 0\n",
      "100%|##########| 15/15 [00:12<00:00,  1.16it/s]\n",
      "Requested to load AutoencodingEngine\n",
      "Loading 1 new model\n",
      "loaded completely 0.0 159.87335777282715 True\n",
      "Requested to load FluxClipModel_\n",
      "Loading 1 new model\n",
      "loaded completely 0.0 4777.53759765625 True\n",
      "loaded partially 9545.67451171875 9545.5224609375 0\n",
      "100%|##########| 15/15 [00:12<00:00,  1.16it/s]\n",
      "Requested to load AutoencodingEngine\n",
      "Loading 1 new model\n",
      "loaded completely 0.0 159.87335777282715 True\n"
     ]
    },
    {
     "data": {
      "text/html": [
       "\n",
       "        <div style=\"display: flex; justify-content: space-around;\">\n",
       "            <span style=\"font-size: 1.6em; font-weight: 600\">Rune of Seed</span>\n",
       "        </div>\n",
       "        <div style=\"display: flex; justify-content: space-around;\">\n",
       "            <img src=\"img/U2VlZA==_1.png\" />\n",
       "<img src=\"img/U2VlZA==_2.png\" />\n",
       "<img src=\"img/U2VlZA==_3.png\" />\n",
       "<img src=\"img/U2VlZA==_4.png\" />\n",
       "        </div>\n",
       "    "
      ],
      "text/plain": [
       "<IPython.core.display.HTML object>"
      ]
     },
     "metadata": {},
     "output_type": "display_data"
    },
    {
     "data": {
      "text/html": [
       "\n",
       "        <div style=\"display: flex; justify-content: space-around;\">\n",
       "            <span style=\"font-size: 1.6em; font-weight: 600\">Rune of Growth</span>\n",
       "        </div>\n",
       "        <div style=\"display: flex; justify-content: space-around;\">\n",
       "            <img src=\"img/R3Jvd3Ro_1.png\" />\n",
       "<img src=\"img/R3Jvd3Ro_2.png\" />\n",
       "<img src=\"img/R3Jvd3Ro_3.png\" />\n",
       "<img src=\"img/R3Jvd3Ro_4.png\" />\n",
       "        </div>\n",
       "    "
      ],
      "text/plain": [
       "<IPython.core.display.HTML object>"
      ]
     },
     "metadata": {},
     "output_type": "display_data"
    },
    {
     "data": {
      "text/html": [
       "\n",
       "        <div style=\"display: flex; justify-content: space-around;\">\n",
       "            <span style=\"font-size: 1.6em; font-weight: 600\">Rune of Bloom</span>\n",
       "        </div>\n",
       "        <div style=\"display: flex; justify-content: space-around;\">\n",
       "            <img src=\"img/Qmxvb20=_1.png\" />\n",
       "<img src=\"img/Qmxvb20=_2.png\" />\n",
       "<img src=\"img/Qmxvb20=_3.png\" />\n",
       "<img src=\"img/Qmxvb20=_4.png\" />\n",
       "        </div>\n",
       "    "
      ],
      "text/plain": [
       "<IPython.core.display.HTML object>"
      ]
     },
     "metadata": {},
     "output_type": "display_data"
    },
    {
     "data": {
      "text/html": [
       "\n",
       "        <div style=\"display: flex; justify-content: space-around;\">\n",
       "            <span style=\"font-size: 1.6em; font-weight: 600\">Rune of Harvest</span>\n",
       "        </div>\n",
       "        <div style=\"display: flex; justify-content: space-around;\">\n",
       "            <img src=\"img/SGFydmVzdA==_1.png\" />\n",
       "<img src=\"img/SGFydmVzdA==_2.png\" />\n",
       "<img src=\"img/SGFydmVzdA==_3.png\" />\n",
       "<img src=\"img/SGFydmVzdA==_4.png\" />\n",
       "        </div>\n",
       "    "
      ],
      "text/plain": [
       "<IPython.core.display.HTML object>"
      ]
     },
     "metadata": {},
     "output_type": "display_data"
    },
    {
     "data": {
      "text/html": [
       "\n",
       "        <div style=\"display: flex; justify-content: space-around;\">\n",
       "            <span style=\"font-size: 1.6em; font-weight: 600\">Rune of Decay</span>\n",
       "        </div>\n",
       "        <div style=\"display: flex; justify-content: space-around;\">\n",
       "            <img src=\"img/RGVjYXk=_1.png\" />\n",
       "<img src=\"img/RGVjYXk=_2.png\" />\n",
       "<img src=\"img/RGVjYXk=_3.png\" />\n",
       "<img src=\"img/RGVjYXk=_4.png\" />\n",
       "        </div>\n",
       "    "
      ],
      "text/plain": [
       "<IPython.core.display.HTML object>"
      ]
     },
     "metadata": {},
     "output_type": "display_data"
    },
    {
     "data": {
      "text/html": [
       "\n",
       "        <div style=\"display: flex; justify-content: space-around;\">\n",
       "            <span style=\"font-size: 1.6em; font-weight: 600\">Rune of Rest</span>\n",
       "        </div>\n",
       "        <div style=\"display: flex; justify-content: space-around;\">\n",
       "            <img src=\"img/UmVzdA==_1.png\" />\n",
       "<img src=\"img/UmVzdA==_2.png\" />\n",
       "<img src=\"img/UmVzdA==_3.png\" />\n",
       "<img src=\"img/UmVzdA==_4.png\" />\n",
       "        </div>\n",
       "    "
      ],
      "text/plain": [
       "<IPython.core.display.HTML object>"
      ]
     },
     "metadata": {},
     "output_type": "display_data"
    },
    {
     "data": {
      "text/html": [
       "\n",
       "        <div style=\"display: flex; justify-content: space-around;\">\n",
       "            <span style=\"font-size: 1.6em; font-weight: 600\">Rune of Renewal</span>\n",
       "        </div>\n",
       "        <div style=\"display: flex; justify-content: space-around;\">\n",
       "            <img src=\"img/UmVuZXdhbA==_1.png\" />\n",
       "<img src=\"img/UmVuZXdhbA==_2.png\" />\n",
       "<img src=\"img/UmVuZXdhbA==_3.png\" />\n",
       "<img src=\"img/UmVuZXdhbA==_4.png\" />\n",
       "        </div>\n",
       "    "
      ],
      "text/plain": [
       "<IPython.core.display.HTML object>"
      ]
     },
     "metadata": {},
     "output_type": "display_data"
    },
    {
     "data": {
      "text/html": [
       "\n",
       "        <div style=\"display: flex; justify-content: space-around;\">\n",
       "            <span style=\"font-size: 1.6em; font-weight: 600\">Rune of Germination</span>\n",
       "        </div>\n",
       "        <div style=\"display: flex; justify-content: space-around;\">\n",
       "            <img src=\"img/R2VybWluYXRpb24=_1.png\" />\n",
       "<img src=\"img/R2VybWluYXRpb24=_2.png\" />\n",
       "<img src=\"img/R2VybWluYXRpb24=_3.png\" />\n",
       "<img src=\"img/R2VybWluYXRpb24=_4.png\" />\n",
       "        </div>\n",
       "    "
      ],
      "text/plain": [
       "<IPython.core.display.HTML object>"
      ]
     },
     "metadata": {},
     "output_type": "display_data"
    },
    {
     "data": {
      "text/html": [
       "\n",
       "        <div style=\"display: flex; justify-content: space-around;\">\n",
       "            <span style=\"font-size: 1.6em; font-weight: 600\">Rune of Grounding</span>\n",
       "        </div>\n",
       "        <div style=\"display: flex; justify-content: space-around;\">\n",
       "            <img src=\"img/R3JvdW5kaW5n_1.png\" />\n",
       "<img src=\"img/R3JvdW5kaW5n_2.png\" />\n",
       "<img src=\"img/R3JvdW5kaW5n_3.png\" />\n",
       "<img src=\"img/R3JvdW5kaW5n_4.png\" />\n",
       "        </div>\n",
       "    "
      ],
      "text/plain": [
       "<IPython.core.display.HTML object>"
      ]
     },
     "metadata": {},
     "output_type": "display_data"
    },
    {
     "data": {
      "text/html": [
       "\n",
       "        <div style=\"display: flex; justify-content: space-around;\">\n",
       "            <span style=\"font-size: 1.6em; font-weight: 600\">Rune of Flow</span>\n",
       "        </div>\n",
       "        <div style=\"display: flex; justify-content: space-around;\">\n",
       "            <img src=\"img/Rmxvdw==_1.png\" />\n",
       "<img src=\"img/Rmxvdw==_2.png\" />\n",
       "<img src=\"img/Rmxvdw==_3.png\" />\n",
       "<img src=\"img/Rmxvdw==_4.png\" />\n",
       "        </div>\n",
       "    "
      ],
      "text/plain": [
       "<IPython.core.display.HTML object>"
      ]
     },
     "metadata": {},
     "output_type": "display_data"
    },
    {
     "data": {
      "text/html": [
       "\n",
       "        <div style=\"display: flex; justify-content: space-around;\">\n",
       "            <span style=\"font-size: 1.6em; font-weight: 600\">Rune of Ignition</span>\n",
       "        </div>\n",
       "        <div style=\"display: flex; justify-content: space-around;\">\n",
       "            <img src=\"img/SWduaXRpb24=_1.png\" />\n",
       "<img src=\"img/SWduaXRpb24=_2.png\" />\n",
       "<img src=\"img/SWduaXRpb24=_3.png\" />\n",
       "<img src=\"img/SWduaXRpb24=_4.png\" />\n",
       "        </div>\n",
       "    "
      ],
      "text/plain": [
       "<IPython.core.display.HTML object>"
      ]
     },
     "metadata": {},
     "output_type": "display_data"
    },
    {
     "data": {
      "text/html": [
       "\n",
       "        <div style=\"display: flex; justify-content: space-around;\">\n",
       "            <span style=\"font-size: 1.6em; font-weight: 600\">Rune of Elevation</span>\n",
       "        </div>\n",
       "        <div style=\"display: flex; justify-content: space-around;\">\n",
       "            <img src=\"img/RWxldmF0aW9u_1.png\" />\n",
       "<img src=\"img/RWxldmF0aW9u_2.png\" />\n",
       "<img src=\"img/RWxldmF0aW9u_3.png\" />\n",
       "<img src=\"img/RWxldmF0aW9u_4.png\" />\n",
       "        </div>\n",
       "    "
      ],
      "text/plain": [
       "<IPython.core.display.HTML object>"
      ]
     },
     "metadata": {},
     "output_type": "display_data"
    },
    {
     "data": {
      "text/html": [
       "\n",
       "        <div style=\"display: flex; justify-content: space-around;\">\n",
       "            <span style=\"font-size: 1.6em; font-weight: 600\">Rune of Purity</span>\n",
       "        </div>\n",
       "        <div style=\"display: flex; justify-content: space-around;\">\n",
       "            <img src=\"img/UHVyaXR5_1.png\" />\n",
       "<img src=\"img/UHVyaXR5_2.png\" />\n",
       "<img src=\"img/UHVyaXR5_3.png\" />\n",
       "<img src=\"img/UHVyaXR5_4.png\" />\n",
       "        </div>\n",
       "    "
      ],
      "text/plain": [
       "<IPython.core.display.HTML object>"
      ]
     },
     "metadata": {},
     "output_type": "display_data"
    },
    {
     "data": {
      "text/html": [
       "\n",
       "        <div style=\"display: flex; justify-content: space-around;\">\n",
       "            <span style=\"font-size: 1.6em; font-weight: 600\">Rune of Dawn</span>\n",
       "        </div>\n",
       "        <div style=\"display: flex; justify-content: space-around;\">\n",
       "            <img src=\"img/RGF3bg==_1.png\" />\n",
       "<img src=\"img/RGF3bg==_2.png\" />\n",
       "<img src=\"img/RGF3bg==_3.png\" />\n",
       "<img src=\"img/RGF3bg==_4.png\" />\n",
       "        </div>\n",
       "    "
      ],
      "text/plain": [
       "<IPython.core.display.HTML object>"
      ]
     },
     "metadata": {},
     "output_type": "display_data"
    },
    {
     "data": {
      "text/html": [
       "\n",
       "        <div style=\"display: flex; justify-content: space-around;\">\n",
       "            <span style=\"font-size: 1.6em; font-weight: 600\">Rune of Morning</span>\n",
       "        </div>\n",
       "        <div style=\"display: flex; justify-content: space-around;\">\n",
       "            <img src=\"img/TW9ybmluZw==_1.png\" />\n",
       "<img src=\"img/TW9ybmluZw==_2.png\" />\n",
       "<img src=\"img/TW9ybmluZw==_3.png\" />\n",
       "<img src=\"img/TW9ybmluZw==_4.png\" />\n",
       "        </div>\n",
       "    "
      ],
      "text/plain": [
       "<IPython.core.display.HTML object>"
      ]
     },
     "metadata": {},
     "output_type": "display_data"
    },
    {
     "data": {
      "text/html": [
       "\n",
       "        <div style=\"display: flex; justify-content: space-around;\">\n",
       "            <span style=\"font-size: 1.6em; font-weight: 600\">Rune of Noon</span>\n",
       "        </div>\n",
       "        <div style=\"display: flex; justify-content: space-around;\">\n",
       "            <img src=\"img/Tm9vbg==_1.png\" />\n",
       "<img src=\"img/Tm9vbg==_2.png\" />\n",
       "<img src=\"img/Tm9vbg==_3.png\" />\n",
       "<img src=\"img/Tm9vbg==_4.png\" />\n",
       "        </div>\n",
       "    "
      ],
      "text/plain": [
       "<IPython.core.display.HTML object>"
      ]
     },
     "metadata": {},
     "output_type": "display_data"
    },
    {
     "data": {
      "text/html": [
       "\n",
       "        <div style=\"display: flex; justify-content: space-around;\">\n",
       "            <span style=\"font-size: 1.6em; font-weight: 600\">Rune of Afternoon</span>\n",
       "        </div>\n",
       "        <div style=\"display: flex; justify-content: space-around;\">\n",
       "            <img src=\"img/QWZ0ZXJub29u_1.png\" />\n",
       "<img src=\"img/QWZ0ZXJub29u_2.png\" />\n",
       "<img src=\"img/QWZ0ZXJub29u_3.png\" />\n",
       "<img src=\"img/QWZ0ZXJub29u_4.png\" />\n",
       "        </div>\n",
       "    "
      ],
      "text/plain": [
       "<IPython.core.display.HTML object>"
      ]
     },
     "metadata": {},
     "output_type": "display_data"
    },
    {
     "data": {
      "text/html": [
       "\n",
       "        <div style=\"display: flex; justify-content: space-around;\">\n",
       "            <span style=\"font-size: 1.6em; font-weight: 600\">Rune of Evening</span>\n",
       "        </div>\n",
       "        <div style=\"display: flex; justify-content: space-around;\">\n",
       "            <img src=\"img/RXZlbmluZw==_1.png\" />\n",
       "<img src=\"img/RXZlbmluZw==_2.png\" />\n",
       "<img src=\"img/RXZlbmluZw==_3.png\" />\n",
       "<img src=\"img/RXZlbmluZw==_4.png\" />\n",
       "        </div>\n",
       "    "
      ],
      "text/plain": [
       "<IPython.core.display.HTML object>"
      ]
     },
     "metadata": {},
     "output_type": "display_data"
    },
    {
     "data": {
      "text/html": [
       "\n",
       "        <div style=\"display: flex; justify-content: space-around;\">\n",
       "            <span style=\"font-size: 1.6em; font-weight: 600\">Rune of Dusk</span>\n",
       "        </div>\n",
       "        <div style=\"display: flex; justify-content: space-around;\">\n",
       "            <img src=\"img/RHVzaw==_1.png\" />\n",
       "<img src=\"img/RHVzaw==_2.png\" />\n",
       "<img src=\"img/RHVzaw==_3.png\" />\n",
       "<img src=\"img/RHVzaw==_4.png\" />\n",
       "        </div>\n",
       "    "
      ],
      "text/plain": [
       "<IPython.core.display.HTML object>"
      ]
     },
     "metadata": {},
     "output_type": "display_data"
    },
    {
     "data": {
      "text/html": [
       "\n",
       "        <div style=\"display: flex; justify-content: space-around;\">\n",
       "            <span style=\"font-size: 1.6em; font-weight: 600\">Rune of Midnight</span>\n",
       "        </div>\n",
       "        <div style=\"display: flex; justify-content: space-around;\">\n",
       "            <img src=\"img/TWlkbmlnaHQ=_1.png\" />\n",
       "<img src=\"img/TWlkbmlnaHQ=_2.png\" />\n",
       "<img src=\"img/TWlkbmlnaHQ=_3.png\" />\n",
       "<img src=\"img/TWlkbmlnaHQ=_4.png\" />\n",
       "        </div>\n",
       "    "
      ],
      "text/plain": [
       "<IPython.core.display.HTML object>"
      ]
     },
     "metadata": {},
     "output_type": "display_data"
    }
   ],
   "source": [
    "def generate_rune_sprites(runes: list[RuneWithPictogram]):\n",
    "    path_here = os.popen('powershell.exe -Command \"(Get-Item .).FullName\"').read().replace(\"\\n\", \"\")\n",
    "    uid = uuid.uuid4()\n",
    "    runes_str = base64.b64encode(json.dumps([rune.symbol for rune in runes]).encode(\"ascii\")).decode(\"ascii\")\n",
    "\n",
    "    command = f'cd {COMFYUI_PATH}; python \"{path_here}\\image_gen_runes.py\" --uuid \"{uid}\" --runes \"{runes_str}\"'\n",
    "    full_command = f'powershell.exe -Command {json.dumps(command)}'\n",
    "    os.system(full_command)\n",
    "\n",
    "    commands = []\n",
    "    for rune in runes:\n",
    "        for i in range(1, 5):\n",
    "            command = f'Move-Item -Path \"{COMFYUI_PATH}\\\\output\\\\rune_{uid}_{rune.symbol}_0000{i}_.png\" -Destination \"{path_here}\\\\img\\\\{rune.encoded()}_{i}.png\" -Force'\n",
    "            commands.append(command)\n",
    "    os.system(f'powershell.exe -Command {json.dumps(\"; \".join(commands))}')\n",
    "\n",
    "    for rune in runes:\n",
    "        display_raw_rune_sprites(rune)\n",
    "\n",
    "def display_raw_rune_sprites(rune: RuneWithPictogram):\n",
    "    if not DISPLAY_SPOILERS:\n",
    "        return\n",
    "    img_code = \"\\n\".join([f'<img src=\"img/{rune.encoded()}_{i}.png\" />' for i in range(1, 5)])\n",
    "    html_code = f\"\"\"\n",
    "        <div style=\"display: flex; justify-content: space-around;\">\n",
    "            <span style=\"font-size: 1.6em; font-weight: 600\">{rune.name}</span>\n",
    "        </div>\n",
    "        <div style=\"display: flex; justify-content: space-around;\">\n",
    "            {img_code}\n",
    "        </div>\n",
    "    \"\"\"\n",
    "    display(HTML(html_code))\n",
    "\n",
    "generate_rune_sprites(rune_pictograms)"
   ]
  }
 ],
 "metadata": {
  "kernelspec": {
   "display_name": "venv",
   "language": "python",
   "name": "python3"
  },
  "language_info": {
   "codemirror_mode": {
    "name": "ipython",
    "version": 3
   },
   "file_extension": ".py",
   "mimetype": "text/x-python",
   "name": "python",
   "nbconvert_exporter": "python",
   "pygments_lexer": "ipython3",
   "version": "3.10.12"
  }
 },
 "nbformat": 4,
 "nbformat_minor": 2
}
